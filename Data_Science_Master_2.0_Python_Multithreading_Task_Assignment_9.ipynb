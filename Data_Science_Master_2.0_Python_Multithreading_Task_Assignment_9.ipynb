{
 "cells": [
  {
   "cell_type": "markdown",
   "metadata": {},
   "source": [
    "### Q1: What is multithreading in python? Why is it used? Name the module used to handle threads in python. \n",
    "\n",
    "### Answer:\n",
    "\n",
    "- Multithreading in Python is a way of achieving multitasking, where multiple parts of a program are executed simultaneously\n",
    "-  It is similar to multiprocessing, but instead of using multiple processes, it uses threads\n",
    "- A thread is an entity within a process that can be scheduled for execution.\n",
    "- It is the smallest unit of processing that can be performed in an operating system.\n",
    "- Threads can exist within one process, and each thread contains its own register set and local variables1.\n",
    "- All threads of a process share global variables and the program code\n",
    "\n",
    "Multithreading is used in Python for several reasons:\n",
    "\n",
    "- Concurrency:\n",
    "Multithreading allows multiple operations to run concurrently in the same program. This is particularly useful in scenarios where a program needs to perform multiple tasks at the same time.\n",
    "\n",
    "- Efficiency: \n",
    "Multithreading can make a program more efficient. It allows a program to continue executing while waiting for I/O operations to complete, such as reading from or writing to a file, or sending or receiving data over a network.\n",
    "\n",
    "- Responsiveness:\n",
    "In GUI (Graphical User Interface) applications, multithreading can be used to keep the user interface responsive while performing long-running operations in the background\n",
    "\n",
    "- Resource Sharing:\n",
    "Threads within the same process share the same data space with the main thread and can therefore share information or communicate with each other more easily than if they were separate processes\n",
    "\n",
    "The module used to handle threads in Python is called the threading module."
   ]
  },
  {
   "cell_type": "code",
   "execution_count": 1,
   "metadata": {},
   "outputs": [],
   "source": [
    "import threading"
   ]
  },
  {
   "cell_type": "code",
   "execution_count": 2,
   "metadata": {},
   "outputs": [],
   "source": [
    "def test(id):\n",
    "    print(\"this is my id %d\"%id)"
   ]
  },
  {
   "cell_type": "code",
   "execution_count": 3,
   "metadata": {},
   "outputs": [],
   "source": [
    "thred=[threading.Thread(target=test,args=(i,)) for i in [10,1,3]]"
   ]
  },
  {
   "cell_type": "code",
   "execution_count": 4,
   "metadata": {},
   "outputs": [
    {
     "name": "stdout",
     "output_type": "stream",
     "text": [
      "this is my id 10\n",
      "this is my id 1\n",
      "this is my id 3\n"
     ]
    }
   ],
   "source": [
    "for t in thred:\n",
    "    t.start()"
   ]
  },
  {
   "cell_type": "markdown",
   "metadata": {},
   "source": [
    "### Q2: Why threading module used? Write the use of the following functions 1) activeCount() 2) currentThread() 3) enumerate() \n",
    "\n",
    "### Answer:\n",
    "\n",
    "The threading module in Python is used for running multiple threads (tasks, function calls) in a concurrent manner.\n",
    "- This module provides a way to improve the performance of an application through parallelism\n",
    "\n",
    "- It allows developers to write code that can be executed in multiple threads, improving efficiency and responsiveness.\n",
    "\n",
    "active_count():\n",
    "This function returns the number of Thread objects that are currently active. \n",
    "- In other words, it gives the count of threads that are currently being executed\n",
    "\n",
    "current_thread():\n",
    "This function returns the current Thread object, corresponding to the caller's thread of control.\n",
    "- If the caller's thread of control was not created through the threading module, a dummy thread object with limited functionality is returned.\n",
    "\n",
    "enumerate():\n",
    "This function returns a list of all Thread objects that are currently active.\n",
    "-In other words, it provides a list of all threads that are currently being executed\n",
    "\n",
    "### Examples:\n"
   ]
  },
  {
   "cell_type": "markdown",
   "metadata": {},
   "source": [
    "active_count(): This function returns the number of thread objects that are active"
   ]
  },
  {
   "cell_type": "code",
   "execution_count": 2,
   "metadata": {},
   "outputs": [
    {
     "name": "stdout",
     "output_type": "stream",
     "text": [
      "Thread is starting...\n",
      "Thread is starting...\n",
      "Number of active threads: 8\n"
     ]
    },
    {
     "name": "stdout",
     "output_type": "stream",
     "text": [
      "Thread is ending...\n",
      "Thread is ending...\n"
     ]
    }
   ],
   "source": [
    "import threading\n",
    "import time\n",
    "\n",
    "def worker():\n",
    "    print(\"Thread is starting...\")\n",
    "    time.sleep(2)\n",
    "    print(\"Thread is ending...\")\n",
    "\n",
    "t1 = threading.Thread(target=worker)\n",
    "t2 = threading.Thread(target=worker)\n",
    "\n",
    "t1.start()\n",
    "t2.start()\n",
    "\n",
    "print(f\"Number of active threads: {threading.active_count()}\")\n"
   ]
  },
  {
   "cell_type": "markdown",
   "metadata": {},
   "source": [
    "current_thread(): This function returns a reference to the current thread object"
   ]
  },
  {
   "cell_type": "code",
   "execution_count": 6,
   "metadata": {},
   "outputs": [
    {
     "name": "stdout",
     "output_type": "stream",
     "text": [
      "Current thread: Thread-1\n",
      "Current thread: Thread-2\n"
     ]
    }
   ],
   "source": [
    "import threading\n",
    "\n",
    "def worker():\n",
    "    print(f\"Current thread: {threading.current_thread().name}\")\n",
    "\n",
    "t1 = threading.Thread(target=worker, name='Thread-1')\n",
    "t2 = threading.Thread(target=worker, name='Thread-2')\n",
    "\n",
    "t1.start()\n",
    "t2.start()\n"
   ]
  },
  {
   "cell_type": "markdown",
   "metadata": {},
   "source": [
    "enumerate(): This function returns a list of all active Thread objects."
   ]
  },
  {
   "cell_type": "code",
   "execution_count": 8,
   "metadata": {},
   "outputs": [
    {
     "name": "stdout",
     "output_type": "stream",
     "text": [
      "Thread is starting...\n",
      "Thread is starting...\n",
      "Active threads: ['MainThread', 'IOPub', 'Heartbeat', 'Control', 'IPythonHistorySavingThread', 'Thread-4', 'Thread-1', 'Thread-2']\n"
     ]
    },
    {
     "name": "stdout",
     "output_type": "stream",
     "text": [
      "Thread is ending...\n",
      "Thread is ending...\n"
     ]
    }
   ],
   "source": [
    "import threading\n",
    "import time\n",
    "\n",
    "def worker():\n",
    "    print(\"Thread is starting...\")\n",
    "    time.sleep(2)\n",
    "    print(\"Thread is ending...\")\n",
    "\n",
    "t1 = threading.Thread(target=worker, name='Thread-1')\n",
    "t2 = threading.Thread(target=worker, name='Thread-2')\n",
    "\n",
    "t1.start()\n",
    "t2.start()\n",
    "\n",
    "print(f\"Active threads: {[t.name for t in threading.enumerate()]}\")\n"
   ]
  },
  {
   "cell_type": "markdown",
   "metadata": {},
   "source": [
    "### Q3:Explain the following functions run() start() join() isAlive() \n",
    "\n",
    "### Answer:\n",
    "\n",
    "run():\n",
    "- This method represents the thread’s activity.\n",
    "- It executes any target function belonging to a given thread object that is now active. - It normally executes in the background after the start() method is invoked.\n",
    "\n",
    "start():\n",
    "- This method starts a thread by calling the run method.\n",
    "- The thread does not start executing until this method is invoked.\n",
    "- Threads are executed in their own system-level thread that is fully managed by the host operating system.\n",
    "\n",
    "join():\n",
    "- This method makes the calling thread wait until the thread (on which it’s called) terminates.\n",
    "- This means that it blocks the calling thread until the thread whose join() method is called is complete.\n",
    "We can also specify a timeout value as an argument to this method.\n",
    "\n",
    "isAlive():\n",
    "- This method checks if the thread is still running.\n",
    "- It returns True if the thread is alive (still running) and False otherwise.\n",
    "- It will return True from when the run() method starts until just after it finishes.\n",
    "\n",
    "### Q4: Write a python program to create two threads. Thread one must print the list of squares and thread two must print the list of cubes\n",
    "\n",
    "### Answer:\n",
    "\n"
   ]
  },
  {
   "cell_type": "code",
   "execution_count": 9,
   "metadata": {},
   "outputs": [],
   "source": [
    "import threading\n",
    "\n",
    "# Define a function for the thread to print squares\n",
    "def print_squares():\n",
    "    for i in range(1, 6):\n",
    "        print(f'Square of {i} is {i**2}')"
   ]
  },
  {
   "cell_type": "code",
   "execution_count": 10,
   "metadata": {},
   "outputs": [],
   "source": [
    "# Define a function for the thread to print cubes\n",
    "def print_cubes():\n",
    "    for i in range(1, 6):\n",
    "        print(f'Cube of {i} is {i**3}')"
   ]
  },
  {
   "cell_type": "code",
   "execution_count": 11,
   "metadata": {},
   "outputs": [],
   "source": [
    "# Create two threads\n",
    "t1 = threading.Thread(target=print_squares)\n",
    "t2 = threading.Thread(target=print_cubes)"
   ]
  },
  {
   "cell_type": "code",
   "execution_count": 12,
   "metadata": {},
   "outputs": [
    {
     "name": "stdout",
     "output_type": "stream",
     "text": [
      "Square of 1 is 1\n",
      "Square of 2 is 4\n",
      "Square of 3 is 9\n",
      "Square of 4 is 16\n",
      "Square of 5 is 25\n",
      "Cube of 1 is 1\n",
      "Cube of 2 is 8\n",
      "Cube of 3 is 27\n",
      "Cube of 4 is 64\n",
      "Cube of 5 is 125\n"
     ]
    }
   ],
   "source": [
    "# Start the threads\n",
    "t1.start()\n",
    "t2.start()"
   ]
  },
  {
   "cell_type": "code",
   "execution_count": 13,
   "metadata": {},
   "outputs": [
    {
     "name": "stdout",
     "output_type": "stream",
     "text": [
      "Done!\n"
     ]
    }
   ],
   "source": [
    "# Wait for both threads to finish\n",
    "t1.join()\n",
    "t2.join()\n",
    "\n",
    "print(\"Done!\")"
   ]
  },
  {
   "cell_type": "markdown",
   "metadata": {},
   "source": [
    "### Q5: State advantages and disadvantages of multithreading.\n",
    "\n",
    "### Answer:\n",
    "\n",
    "#### Advantages:\n",
    "\n",
    "Concurrency: \n",
    "- Multithreading allows multiple operations to run concurrently in the same program, which can improve performance.\n",
    "\n",
    "Efficiency:\n",
    "- It allows a program to continue executing while waiting for I/O operations to complete, such as reading from or writing to a file, or sending or receiving data over a network.\n",
    "\n",
    "Responsiveness:\n",
    "- In GUI (Graphical User Interface) applications, multithreading can be used to keep the user interface responsive while performing long-running operations in the background.\n",
    "\n",
    "Resource Sharing:\n",
    "- Threads within the same process share the same data space with the main thread and can therefore share information or communicate with each other more easily than if they were separate processes.\n",
    "\n",
    "Utilization of Multiprocessor Systems:\n",
    "- On systems with multiple CPUs or cores, multithreading can take advantage of the hardware resources by distributing threads across multiple cores.\n",
    "\n",
    "#### Disadvantages:\n",
    "\n",
    "Increased Complexity:\n",
    "- Multithreaded programs are more complex and harder to write, understand, debug and maintain.\n",
    "\n",
    "Synchronization Issues:\n",
    "- Care must be taken to avoid race conditions where multiple threads access shared data simultaneously. This requires synchronization which can be difficult to implement correctly.\n",
    "\n",
    "Overhead:\n",
    "- Creating, managing and switching between threads introduces some overhead. If not managed correctly, this could lead to decreased performance.\n",
    "\n",
    "Unpredictable Results:\n",
    "- Due to the nature of thread scheduling and timing, the results of multithreaded programs can be unpredictable and non-deterministic.\n",
    "\n",
    "Potential Deadlocks:\n",
    "- Improper use of synchronization primitives can lead to deadlocks where two or more threads are unable to proceed because each is waiting for the other to release resources.\n",
    "\n",
    "Starvation:\n",
    "- This occurs when a thread doesn’t get regular access to shared resources and fails to resume its work\n"
   ]
  },
  {
   "cell_type": "markdown",
   "metadata": {},
   "source": [
    "### Q6: Explain deadlocks and race conditions\n",
    "\n",
    "### Answer:\n",
    "\n",
    "Deadlocks:\n",
    "- A deadlock is a situation in a multithreaded environment where two or more threads are unable to proceed because each is waiting for the other to release resources. \n",
    "- For example, if Thread A holds Resource 1 and waits for Resource 2 which is held by Thread B, and Thread B is waiting for Resource 1, a deadlock occurs.\n",
    "- Both threads will wait indefinitely because neither will release the resource it holds until it acquires the resource it’s waiting for1. This is often visualized as a circular wait condition.\n",
    "\n",
    "Race Conditions:\n",
    "- A race condition occurs when two or more threads can access shared data and they try to change it at the same time.\n",
    "- As a result, the values of variables may be unpredictable as they can be dependent on the timings of context switches of the processes.  \n",
    "-For example, if two threads are reading a value from a variable and updating it simultaneously without synchronization, they might both read the same value, perform calculations on it, and write back incrementally updated values.\n",
    "- However, since both read the original value, one of the updates would be lost, leading to incorrect results.\n",
    "- This is why synchronization is crucial in multithreaded environments"
   ]
  }
 ],
 "metadata": {
  "kernelspec": {
   "display_name": "base",
   "language": "python",
   "name": "python3"
  },
  "language_info": {
   "codemirror_mode": {
    "name": "ipython",
    "version": 3
   },
   "file_extension": ".py",
   "mimetype": "text/x-python",
   "name": "python",
   "nbconvert_exporter": "python",
   "pygments_lexer": "ipython3",
   "version": "3.11.4"
  }
 },
 "nbformat": 4,
 "nbformat_minor": 2
}
